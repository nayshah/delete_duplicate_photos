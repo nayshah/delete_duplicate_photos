{
 "cells": [
  {
   "cell_type": "code",
   "execution_count": null,
   "id": "fcd08b75-e19d-4f60-ad56-4e1823d370af",
   "metadata": {},
   "outputs": [],
   "source": [
    "import os\n",
    "import hashlib\n",
    "\n",
    "def get_file_hash(file_path):\n",
    "    \"\"\"Generate a SHA256 hash for the given file.\"\"\"\n",
    "    hasher = hashlib.sha256()\n",
    "    with open(file_path, 'rb') as f:\n",
    "        # Read in 4KB chunks to handle large files\n",
    "        for chunk in iter(lambda: f.read(4096), b\"\"):\n",
    "            hasher.update(chunk)\n",
    "    return hasher.hexdigest()\n",
    "\n",
    "def delete_duplicate_photos(folder_path):\n",
    "    hashes = {}\n",
    "    duplicates = []\n",
    "\n",
    "    for root, _, files in os.walk(folder_path):\n",
    "        for filename in files:\n",
    "            if filename.lower().endswith(('.jpg', '.jpeg', '.png', '.gif', '.bmp', '.tiff')):\n",
    "                file_path = os.path.join(root, filename)\n",
    "                file_hash = get_file_hash(file_path)\n",
    "\n",
    "                if file_hash in hashes:\n",
    "                    duplicates.append(file_path)\n",
    "                    print(f\"Duplicate found: {file_path}\")\n",
    "                else:\n",
    "                    hashes[file_hash] = file_path\n",
    "\n",
    "    # Confirm deletion\n",
    "    print(f\"\\nFound {len(duplicates)} duplicates.\")\n",
    "    confirm = input(\"Do you want to delete these files? (yes/no): \").strip().lower()\n",
    "\n",
    "    if confirm == 'yes':\n",
    "        for file_path in duplicates:\n",
    "            try:\n",
    "                os.remove(file_path)\n",
    "                print(f\"Deleted: {file_path}\")\n",
    "            except Exception as e:\n",
    "                print(f\"Error deleting {file_path}: {e}\")\n",
    "    else:\n",
    "        print(\"No files were deleted.\")\n",
    "\n",
    "# Set your folder path here\n",
    "folder_to_scan = r'C:\\Users\\naybs\\Pictures'  # Example: r'C:\\Users\\YourName\\Pictures'\n",
    "\n",
    "delete_duplicate_photos(folder_to_scan)\n"
   ]
  },
  {
   "cell_type": "code",
   "execution_count": null,
   "id": "3b683abe-4e13-45b3-8af1-2bbbcb03a797",
   "metadata": {},
   "outputs": [],
   "source": []
  }
 ],
 "metadata": {
  "kernelspec": {
   "display_name": "Python 3 (ipykernel)",
   "language": "python",
   "name": "python3"
  },
  "language_info": {
   "codemirror_mode": {
    "name": "ipython",
    "version": 3
   },
   "file_extension": ".py",
   "mimetype": "text/x-python",
   "name": "python",
   "nbconvert_exporter": "python",
   "pygments_lexer": "ipython3",
   "version": "3.12.4"
  }
 },
 "nbformat": 4,
 "nbformat_minor": 5
}
